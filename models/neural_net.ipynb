{
 "cells": [
  {
   "cell_type": "code",
   "execution_count": 13,
   "metadata": {},
   "outputs": [],
   "source": [
    "import pandas as pd\n",
    "import numpy as np\n",
    "import matplotlib.pyplot as plt\n",
    "%matplotlib inline\n",
    "import math\n",
    "#import tensorflow as tf\n",
    "import sys\n",
    "import statsmodels.api as sm\n",
    "import statsmodels.formula.api as smf\n",
    "import pickle\n",
    "from statsmodels.regression.quantile_regression import QuantReg\n",
    "import random"
   ]
  },
  {
   "cell_type": "code",
   "execution_count": 23,
   "metadata": {
    "collapsed": true
   },
   "outputs": [],
   "source": [
    "def split_data(data, test_ratio):\n",
    "    def make2dList(rows, cols):\n",
    "        a=[]\n",
    "        for row in range(rows): a += [[0]*cols]\n",
    "        return a\n",
    "    test_size = int(len(data) * test_ratio)\n",
    "    training_data = make2dList(len(data) - test_size, data[0][\"quantile\"].shape[0] * data[0][\"quantile\"].shape[1])\n",
    "    training_labels = [0]*(len(data)-test_size)\n",
    "    testing_data = make2dList(test_size, data[0][\"quantile\"].shape[0] * data[0][\"quantile\"].shape[1])\n",
    "    testing_labels = [0]*test_size\n",
    "    \n",
    "    test = random.sample(range(0, len(data)), test_size)\n",
    "    \n",
    "    start = -1\n",
    "    for key in range(len(data)):\n",
    "        if (key in test): continue\n",
    "        start += 1\n",
    "        for j in range(data[0][\"quantile\"].shape[0]):\n",
    "            for k in range(data[0][\"quantile\"].shape[1]):\n",
    "                training_data[start][k*data[0][\"quantile\"].shape[0] + j] = data[key][\"quantile\"][j][k]\n",
    "        training_labels[start] = data[key][\"class\"]\n",
    "    \n",
    "    start = -1\n",
    "    for key in test:\n",
    "        start += 1\n",
    "        for j in range(data[0][\"quantile\"].shape[0]):\n",
    "            for k in range(data[0][\"quantile\"].shape[1]):\n",
    "                testing_data[start][k*data[0][\"quantile\"].shape[0] + j] = data[key][\"quantile\"][j][k]\n",
    "        testing_labels[start] = data[key][\"class\"]\n",
    "        \n",
    "    \n",
    "    return training_data, training_labels, testing_data, testing_labels"
   ]
  },
  {
   "cell_type": "code",
   "execution_count": 24,
   "metadata": {
    "collapsed": true
   },
   "outputs": [],
   "source": [
    "# TODO:\n",
    "# - Cross Validation\n",
    "#     - alphas\n",
    "#     - topology\n",
    "\n",
    "\n",
    "\n",
    "\n",
    "from sklearn.neural_network import MLPClassifier\n",
    "\n",
    "\n",
    "clf = MLPClassifier(solver='lbfgs', alpha=1e-5, hidden_layer_sizes=(1), random_state=1)\n",
    "data = pickle.load(open('../data/Quantiles.pickle','rb'))\n",
    "def iteration(model):\n",
    "    training_data, training_labels, testing_data, testing_labels = split_data(data, 0.1)\n",
    "    model.fit(training_data, training_labels)\n",
    "    pred = model.predict(testing_data)\n",
    "    return (np.count_nonzero(pred == np.array(testing_labels)) / len(testing_labels))"
   ]
  },
  {
   "cell_type": "code",
   "execution_count": 25,
   "metadata": {},
   "outputs": [
    {
     "name": "stdout",
     "output_type": "stream",
     "text": [
      "0.7931645569620255\n"
     ]
    }
   ],
   "source": [
    "from sklearn.ensemble import AdaBoostClassifier\n",
    "\n",
    "avg = 0\n",
    "num = 50\n",
    "for i in range(num):\n",
    "    avg += iteration(clf)\n",
    "print(avg / num)"
   ]
  },
  {
   "cell_type": "code",
   "execution_count": null,
   "metadata": {
    "collapsed": true
   },
   "outputs": [],
   "source": []
  },
  {
   "cell_type": "code",
   "execution_count": null,
   "metadata": {
    "collapsed": true
   },
   "outputs": [],
   "source": []
  }
 ],
 "metadata": {
  "kernelspec": {
   "display_name": "Python 3",
   "language": "python",
   "name": "python3"
  },
  "language_info": {
   "codemirror_mode": {
    "name": "ipython",
    "version": 3
   },
   "file_extension": ".py",
   "mimetype": "text/x-python",
   "name": "python",
   "nbconvert_exporter": "python",
   "pygments_lexer": "ipython3",
   "version": "3.6.1"
  }
 },
 "nbformat": 4,
 "nbformat_minor": 2
}
