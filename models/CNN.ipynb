{
 "cells": [
  {
   "cell_type": "code",
   "execution_count": 3,
   "metadata": {
    "collapsed": false
   },
   "outputs": [
    {
     "name": "stderr",
     "output_type": "stream",
     "text": [
      "/home/kevin/.local/lib/python3.5/site-packages/h5py/__init__.py:36: FutureWarning: Conversion of the second argument of issubdtype from `float` to `np.floating` is deprecated. In future, it will be treated as `np.float64 == np.dtype(float).type`.\n",
      "  from ._conv import register_converters as _register_converters\n"
     ]
    }
   ],
   "source": [
    "import pickle; import numpy as np\n",
    "import matplotlib.pyplot as plt\n",
    "%matplotlib inline\n",
    "from scipy import signal \n",
    "import scipy\n",
    "import h5py\n",
    "import tqdm"
   ]
  },
  {
   "cell_type": "code",
   "execution_count": 39,
   "metadata": {
    "collapsed": false,
    "scrolled": false
   },
   "outputs": [
    {
     "name": "stdout",
     "output_type": "stream",
     "text": [
      "[0. 0. 0. ... 1. 1. 1.]\n"
     ]
    }
   ],
   "source": [
    "NUM_BINS = 20\n",
    "DATA_SOURCE = '../data/pca_images.pickle'\n",
    "with open(DATA_SOURCE, 'rb') as f:\n",
    "    (X, y) = pickle.load(f)\n",
    "shapes = X.shape\n",
    "X = np.reshape(X, (shapes[0], shapes[1], shapes[2], 1))"
   ]
  },
  {
   "cell_type": "code",
   "execution_count": 60,
   "metadata": {
    "collapsed": false
   },
   "outputs": [
    {
     "name": "stdout",
     "output_type": "stream",
     "text": [
      "[0. 1. 0. 1. 1. 0. 1. 0. 1. 1. 1. 1. 1. 1. 1. 1. 0. 1. 0. 1. 1. 1. 1. 1.\n",
      " 1. 1. 0. 1. 1. 1. 0. 1. 0. 1. 0. 1. 0. 1. 1. 0. 0. 1. 0. 1. 0. 1. 0. 1.\n",
      " 1. 1. 1. 0. 0. 1. 1. 1. 1. 1. 1. 1. 1. 1. 1. 0. 1. 1. 1. 0. 1. 1. 0. 1.\n",
      " 1. 1. 0. 1. 0. 1. 0. 1. 0. 1. 0. 1. 1. 1. 1. 0. 1. 1. 0. 1. 1. 1. 1. 1.\n",
      " 1. 0. 1. 1. 1. 1. 1. 1. 1. 1. 1. 1. 1. 1. 1. 1. 1. 0. 1. 1. 1. 1. 1. 1.\n",
      " 1. 1. 1. 1. 1. 1. 0. 1. 1. 1. 1. 1. 1. 1. 0. 1. 1. 0. 0. 1. 1. 0. 0. 1.\n",
      " 0. 1. 1. 0. 1. 0. 0. 1. 1. 1. 1. 0. 0. 0. 1. 1. 1. 1. 1. 1. 1. 1. 1. 1.\n",
      " 1. 1. 1. 1. 1. 1. 1. 1. 1. 1. 1. 1. 0. 1. 1. 1. 1. 1. 1. 0. 1. 1. 1. 1.\n",
      " 1. 1. 1. 1. 0. 1. 1. 1. 1. 0. 1. 1. 1. 1. 0. 1. 0. 1. 0. 1. 1. 1. 1. 1.\n",
      " 1. 1. 1. 1. 1. 1. 1. 0. 0. 1. 1. 1. 1. 0. 1. 1. 1. 1. 0. 1. 1. 1. 1. 1.\n",
      " 0. 1. 1. 1. 1. 1. 1. 1. 1. 1. 1. 0. 1. 0. 1. 1. 1. 1. 1. 1. 1. 1. 1. 0.\n",
      " 0. 0. 0. 1. 0. 0. 1. 1. 0. 1. 0. 1. 1. 1. 0. 1. 1. 1. 1. 1. 1. 1. 1. 1.\n",
      " 0. 0. 1. 1. 1. 1. 1. 0. 1. 1. 1. 0. 0. 1. 0. 1. 0. 1. 1. 0. 0. 1. 1. 1.\n",
      " 0. 1. 1. 0. 1. 1. 1. 0. 1. 1. 1. 1. 1. 0. 1. 1. 1. 0. 1. 1. 1. 1. 0. 1.\n",
      " 1. 1. 1. 1. 0. 0. 1. 1. 0. 1. 0. 1. 1. 1. 1. 1. 1. 1. 1. 0. 1. 1. 1. 0.\n",
      " 1. 1. 1. 1. 1. 1. 1. 0. 0. 1. 0. 1. 0. 1. 1. 1. 1. 1. 1. 1. 1. 0. 1. 1.\n",
      " 0. 1.]\n",
      "(386, 20, 20, 1)\n"
     ]
    }
   ],
   "source": [
    "from keras import optimizers\n",
    "from sklearn.model_selection import train_test_split\n",
    "X_train, X_test, y_train, y_test = train_test_split(X, y, test_size=0.2)\n",
    "print(y_test)\n",
    "print(X_test.shape)"
   ]
  },
  {
   "cell_type": "code",
   "execution_count": 97,
   "metadata": {
    "collapsed": false
   },
   "outputs": [],
   "source": [
    "from keras.models import Sequential\n",
    "from keras.layers import Conv2D, Activation, Dense, BatchNormalization, Dropout\n",
    "from keras.activations import relu\n",
    "from keras.layers.core import Flatten\n",
    "    \n",
    "def CNN():\n",
    "    activation = 'sigmoid'\n",
    "    model = Sequential()\n",
    "    model.add(Conv2D(10, kernel_size=(3,3), strides=(1,1), padding='same', input_shape=(NUM_BINS,NUM_BINS,1)))\n",
    "    model.add(Activation(activation))\n",
    "    model.add(Dropout(0.5))\n",
    "    model.add(Conv2D(10, kernel_size=(3,3), strides=(1,1), padding='same'))\n",
    "    model.add(Activation(activation)) \n",
    "    model.add(Dropout(0.5))\n",
    "#     model.add(Conv2D(10, kernel_size=(1,1), strides=(1,1), padding='same'))\n",
    "#     model.add(Activation('relu')) \n",
    "#     model.add(Dropout(0.5))\n",
    "    model.add(Flatten())\n",
    "    model.add(Dense(1))\n",
    "    model.add(Activation('sigmoid'))\n",
    "    return model"
   ]
  },
  {
   "cell_type": "code",
   "execution_count": 98,
   "metadata": {
    "collapsed": false
   },
   "outputs": [
    {
     "name": "stdout",
     "output_type": "stream",
     "text": [
      "(1541, 20, 20, 1) (1927,)\n",
      "Epoch is 0\n",
      "Epoch is 1\n",
      "Epoch is 2\n",
      "Epoch is 3\n",
      "Epoch is 4\n",
      "Epoch is 5\n",
      "Epoch is 6\n",
      "Epoch is 7\n",
      "Epoch is 8\n",
      "Epoch is 9\n",
      "Epoch is 10\n",
      "Epoch is 11\n",
      "Epoch is 12\n",
      "Epoch is 13\n",
      "Epoch is 14\n",
      "Epoch is 15\n",
      "Epoch is 16\n",
      "Epoch is 17\n",
      "Epoch is 18\n",
      "Epoch is 19\n",
      "Epoch is 20\n",
      "Epoch is 21\n",
      "Epoch is 22\n",
      "Epoch is 23\n",
      "Epoch is 24\n",
      "Epoch is 25\n",
      "Epoch is 26\n",
      "Epoch is 27\n",
      "Epoch is 28\n",
      "Epoch is 29\n",
      "Epoch is 30\n",
      "Epoch is 31\n",
      "Epoch is 32\n",
      "Epoch is 33\n",
      "Epoch is 34\n",
      "Epoch is 35\n",
      "Epoch is 36\n",
      "Epoch is 37\n",
      "Epoch is 38\n",
      "Epoch is 39\n",
      "Epoch is 40\n",
      "Epoch is 41\n",
      "Epoch is 42\n",
      "Epoch is 43\n",
      "Epoch is 44\n",
      "Epoch is 45\n",
      "Epoch is 46\n",
      "Epoch is 47\n",
      "Epoch is 48\n",
      "Epoch is 49\n",
      "Epoch is 50\n",
      "Epoch is 51\n",
      "Epoch is 52\n",
      "Epoch is 53\n",
      "Epoch is 54\n",
      "Epoch is 55\n",
      "Epoch is 56\n",
      "Epoch is 57\n",
      "Epoch is 58\n",
      "Epoch is 59\n",
      "Epoch is 60\n",
      "Epoch is 61\n",
      "Epoch is 62\n",
      "Epoch is 63\n",
      "Epoch is 64\n",
      "Epoch is 65\n",
      "Epoch is 66\n",
      "Epoch is 67\n",
      "Epoch is 68\n",
      "Epoch is 69\n",
      "Epoch is 70\n",
      "Epoch is 71\n",
      "Epoch is 72\n",
      "Epoch is 73\n",
      "Epoch is 74\n",
      "Epoch is 75\n",
      "Epoch is 76\n",
      "Epoch is 77\n",
      "Epoch is 78\n",
      "Epoch is 79\n",
      "Epoch is 80\n",
      "Epoch is 81\n",
      "Epoch is 82\n",
      "Epoch is 83\n",
      "Epoch is 84\n",
      "Epoch is 85\n",
      "Epoch is 86\n",
      "Epoch is 87\n",
      "Epoch is 88\n",
      "Epoch is 89\n",
      "Epoch is 90\n",
      "Epoch is 91\n",
      "Epoch is 92\n",
      "Epoch is 93\n",
      "Epoch is 94\n",
      "Epoch is 95\n",
      "Epoch is 96\n",
      "Epoch is 97\n",
      "Epoch is 98\n",
      "Epoch is 99\n",
      "0.7901554404145078\n"
     ]
    }
   ],
   "source": [
    "print(X_train.shape, y.shape)\n",
    "num_epochs = 100\n",
    "cnn = CNN()\n",
    "adam = optimizers.Adam(lr=0.01, beta_1=0.9, beta_2=0.999, epsilon=None, decay=0.001)\n",
    "cnn.compile(loss='binary_crossentropy', optimizer=adam, metrics=['accuracy'])\n",
    "\n",
    "metrics = dict(); metrics['acc'] = []; metrics['val_acc'] = []; metrics['loss'] = []; metrics['val_loss'] = []\n",
    "for epoch in range(num_epochs):\n",
    "    print(\"Epoch is\", epoch)\n",
    "    history = cnn.fit(X_train, y_train, validation_split=0.1, verbose=0)\n",
    "    metrics['acc'].append(history.history['acc'])\n",
    "    metrics['val_acc'].append(history.history['val_acc'])\n",
    "    metrics['loss'].append(history.history['loss'])\n",
    "    metrics['val_loss'].append(history.history['val_loss'])    \n",
    "\n",
    "\n",
    "pred = cnn.predict(X_test)\n",
    "pred = np.reshape(pred, len(pred))\n",
    "acc = float(np.count_nonzero(np.equal(np.round(pred), y_test))) / len(pred)\n",
    "print(acc)"
   ]
  },
  {
   "cell_type": "code",
   "execution_count": 99,
   "metadata": {
    "collapsed": false
   },
   "outputs": [
    {
     "data": {
      "image/png": "[encoded data removed]",
      "text/plain": [
       "<Figure size 600x400 with 1 Axes>"
      ]
     },
     "metadata": {},
     "output_type": "display_data"
    }
   ],
   "source": [
    "plt.plot(metrics['acc'])\n",
    "plt.plot(metrics['val_acc'])\n",
    "plt.title('model accuracy')\n",
    "plt.ylabel('accuracy')\n",
    "plt.xlabel('epoch')\n",
    "plt.legend(['train', 'validation'], loc='upper left')\n",
    "plt.show()"
   ]
  },
  {
   "cell_type": "code",
   "execution_count": 100,
   "metadata": {
    "collapsed": false
   },
   "outputs": [
    {
     "data": {
      "text/plain": [
       "<matplotlib.legend.Legend at 0x7f0626b03860>"
      ]
     },
     "execution_count": 100,
     "metadata": {},
     "output_type": "execute_result"
    },
    {
     "data": {
      "image/png": "[encoded data removed]",
      "text/plain": [
       "<Figure size 600x400 with 1 Axes>"
      ]
     },
     "metadata": {},
     "output_type": "display_data"
    }
   ],
   "source": [
    "plt.plot(metrics['loss'])\n",
    "plt.plot(metrics['val_loss'])\n",
    "plt.title('model loss')\n",
    "plt.ylabel('loss')\n",
    "plt.xlabel('epoch')\n",
    "plt.legend(['train', 'validation'], loc='upper left')"
   ]
  },
  {
   "cell_type": "code",
   "execution_count": null,
   "metadata": {
    "collapsed": true
   },
   "outputs": [],
   "source": []
  }
 ],
 "metadata": {
  "kernelspec": {
   "display_name": "Python 3",
   "language": "python",
   "name": "python3"
  },
  "language_info": {
   "codemirror_mode": {
    "name": "ipython",
    "version": 3
   },
   "file_extension": ".py",
   "mimetype": "text/x-python",
   "name": "python",
   "nbconvert_exporter": "python",
   "pygments_lexer": "ipython3",
   "version": "3.5.2"
  }
 },
 "nbformat": 4,
 "nbformat_minor": 2
}
